{
 "cells": [
  {
   "cell_type": "markdown",
   "metadata": {},
   "source": [
    "# **Loading Dataset**"
   ]
  },
  {
   "cell_type": "code",
   "execution_count": null,
   "metadata": {},
   "outputs": [],
   "source": [
    "import pandas as pd\n",
    "\n",
    "df = pd.read_csv('slice_localization_data.csv')"
   ]
  },
  {
   "cell_type": "markdown",
   "metadata": {},
   "source": [
    "# ***EDA***"
   ]
  },
  {
   "cell_type": "code",
   "execution_count": null,
   "metadata": {},
   "outputs": [],
   "source": [
    "print(df.head())"
   ]
  },
  {
   "cell_type": "code",
   "execution_count": null,
   "metadata": {},
   "outputs": [],
   "source": [
    "dataset_shape = df.shape\n",
    "print(\"Dataset shape:\", dataset_shape)"
   ]
  },
  {
   "cell_type": "code",
   "execution_count": null,
   "metadata": {},
   "outputs": [],
   "source": [
    "categorical_columns = df.select_dtypes(include='object').columns\n",
    "numerical_columns = df.select_dtypes(include=['int64', 'float64']).columns\n",
    "\n",
    "categorical_count = len(categorical_columns)\n",
    "numerical_count = len(numerical_columns)\n",
    "\n",
    "print(\"Categorical columns:\", categorical_columns)\n",
    "print(\"Numerical columns:\", numerical_columns)\n",
    "print(\"Number of categorical columns:\", categorical_count)\n",
    "print(\"Number of numerical columns:\", numerical_count)"
   ]
  },
  {
   "cell_type": "code",
   "execution_count": null,
   "metadata": {},
   "outputs": [],
   "source": [
    "# Check for null values\n",
    "null_counts = df.isnull().sum()\n",
    "print(\"Columns with null values:\")\n",
    "for column, count in null_counts.items():\n",
    "    if count > 0:\n",
    "        print(f\"{column}: {count} null values\")"
   ]
  },
  {
   "cell_type": "code",
   "execution_count": null,
   "metadata": {},
   "outputs": [],
   "source": [
    "# Replace null values with mode\n",
    "df_filled = df.fillna(df.mode().iloc[0])\n",
    "\n",
    "# Check for null values in the filled DataFrame\n",
    "null_counts_filled = df_filled.isnull().sum()\n",
    "\n",
    "# Print if there are any null values\n",
    "if null_counts_filled.any():\n",
    "    print(\"Null values:\")\n",
    "    print(null_counts_filled)\n",
    "else:\n",
    "    print(\"No null values found.\")"
   ]
  },
  {
   "cell_type": "code",
   "execution_count": null,
   "metadata": {},
   "outputs": [],
   "source": [
    "df_filled.describe(include='all')"
   ]
  },
  {
   "cell_type": "code",
   "execution_count": null,
   "metadata": {},
   "outputs": [],
   "source": [
    "# Getting unqiue values of the \"Patient ID\"\n",
    "import numpy as np\n",
    "\n",
    "np.unique(df_filled[\"patientId\"])"
   ]
  },
  {
   "cell_type": "code",
   "execution_count": null,
   "metadata": {},
   "outputs": [],
   "source": [
    "print(df_filled.columns)"
   ]
  }
 ],
 "metadata": {
  "kernelspec": {
   "display_name": "intro_to_ai",
   "language": "python",
   "name": "python3"
  },
  "language_info": {
   "codemirror_mode": {
    "name": "ipython",
    "version": 3
   },
   "file_extension": ".py",
   "mimetype": "text/x-python",
   "name": "python",
   "nbconvert_exporter": "python",
   "pygments_lexer": "ipython3",
   "version": "3.9.16"
  },
  "orig_nbformat": 4
 },
 "nbformat": 4,
 "nbformat_minor": 2
}
