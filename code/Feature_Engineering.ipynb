{
 "cells": [
  {
   "cell_type": "markdown",
   "metadata": {},
   "source": [
    "# **PCA (Principal Component Analysis) process**"
   ]
  },
  {
   "cell_type": "code",
   "execution_count": null,
   "metadata": {},
   "outputs": [],
   "source": [
    "import pandas as pd\n",
    "\n",
    "df = pd.read_csv('slice_localization_data.csv')\n",
    "\n",
    "df_filled = df.fillna(df.mode().iloc[0])"
   ]
  },
  {
   "cell_type": "markdown",
   "metadata": {},
   "source": [
    "Feature Standarization\n",
    "\n",
    "1. perform the PCA to obtain the principal components and their corresponding explained variance\n"
   ]
  },
  {
   "cell_type": "code",
   "execution_count": null,
   "metadata": {},
   "outputs": [],
   "source": [
    "#dropping off unnecessary variable ‘patientId’, separating features and target variables.\n",
    "\n",
    "df_copy = df_filled.drop(['patientId'], axis=1)\n",
    "df_y = df_copy['reference']\n",
    "df_x = df_copy.drop(['reference'], axis=1)"
   ]
  },
  {
   "cell_type": "code",
   "execution_count": null,
   "metadata": {},
   "outputs": [],
   "source": [
    "from sklearn.model_selection import train_test_split\n",
    "\n",
    "X_train, X_test, y_train, y_test = train_test_split(df_x, df_y, test_size=0.3, random_state=42)"
   ]
  },
  {
   "cell_type": "code",
   "execution_count": null,
   "metadata": {},
   "outputs": [],
   "source": [
    "from sklearn.decomposition import PCA\n",
    "from sklearn.preprocessing import StandardScaler\n",
    "\n",
    "scaler = StandardScaler()\n",
    "scaled_df_x = scaler.fit_transform(df_x)\n",
    "pca = PCA(0.75)\n",
    "pca_vectors = pca.fit_transform(scaled_df_x)\n",
    "for index, var in enumerate(pca.explained_variance_ratio_):\n",
    "    print(\"Explained Variance ratio by Principal Component \", (index+1), \" : \", var)"
   ]
  },
  {
   "cell_type": "markdown",
   "metadata": {},
   "source": [
    "2. perform the PCA to obtain the principal components and their corresponding explained variance"
   ]
  },
  {
   "cell_type": "code",
   "execution_count": null,
   "metadata": {},
   "outputs": [],
   "source": [
    "import numpy as np\n",
    "import matplotlib.pyplot as plt\n",
    "\n",
    "# Calculate the explained variance ratio\n",
    "explained_variance_ratio = pca.explained_variance_ratio_\n",
    "\n",
    "# Calculate the cumulative explained variance\n",
    "cumulative_variance = np.cumsum(explained_variance_ratio)\n",
    "\n",
    "# Plot the explained variance ratio and cumulative explained variance\n",
    "plt.figure(figsize=(10, 6))\n",
    "plt.plot(range(1, len(explained_variance_ratio) + 1), explained_variance_ratio, marker='o', label='Explained Variance Ratio')\n",
    "plt.plot(range(1, len(explained_variance_ratio) + 1), cumulative_variance, marker='o', label='Cumulative Explained Variance')\n",
    "plt.xlabel('Number of Principal Components')\n",
    "plt.ylabel('Explained Variance Ratio / Cumulative Explained Variance')\n",
    "plt.title('Explained Variance Ratio and Cumulative Explained Variance')\n",
    "plt.legend()\n",
    "plt.show()"
   ]
  },
  {
   "cell_type": "code",
   "execution_count": null,
   "metadata": {},
   "outputs": [],
   "source": [
    "pca_vectors = pca.fit_transform(scaled_df_x)\n",
    "\n",
    "# Access and print the pca_vectors\n",
    "print(\"PCA Vectors:\")\n",
    "print(pca_vectors)"
   ]
  },
  {
   "cell_type": "code",
   "execution_count": null,
   "metadata": {},
   "outputs": [],
   "source": [
    "import seaborn as sns\n",
    "\n",
    "# Select a subset of principal components\n",
    "subset_pca = pca_vectors[:, :20]  # Adjust the number of components as desired\n",
    "\n",
    "# Create a DataFrame with the subset of principal components\n",
    "df_subset_pca = pd.DataFrame(subset_pca, columns=[f'Principal Component {i+1}' for i in range(subset_pca.shape[1])])\n",
    "\n",
    "# Create a scatter plot matrix\n",
    "sns.set(style='ticks')\n",
    "sns.pairplot(df_subset_pca)\n",
    "plt.suptitle('Scatter Plot Matrix of Subset Principal Components')\n",
    "plt.show()"
   ]
  },
  {
   "cell_type": "markdown",
   "metadata": {},
   "source": [
    "we are able to reduce dimensions from 384 to 52"
   ]
  },
  {
   "cell_type": "code",
   "execution_count": null,
   "metadata": {},
   "outputs": [],
   "source": [
    "%matplotlib inline\n",
    "\n",
    "import matplotlib.pyplot as plt\n",
    "import seaborn as sns\n",
    "\n",
    "sns.set(style=\"ticks\")\n",
    "sns.set_palette(palette='Set1')\n",
    "\n",
    "fig_1 = plt.figure(figsize=(18,6))\n",
    "\n",
    "sns.set(style=\"ticks\")\n",
    "sns.set_palette(palette='Set1')\n",
    "\n",
    "sns.regplot(x=pca_vectors[:,0],y=df_y, label='Principal Component 1',x_bins=10)\n",
    "sns.regplot(x=pca_vectors[:,1],y=df_y, label='Principal Component 2',x_bins=10)\n",
    "sns.regplot(x=pca_vectors[:,2],y=df_y, label='Principal Component 3',x_bins=10)\n",
    "\n",
    "plt.title('Most Important Principal Components vs Reference Value')\n",
    "plt.xlabel('Principal Component Value')\n",
    "plt.ylabel('Reference Value')\n",
    "plt.legend()\n",
    "plt.show()"
   ]
  },
  {
   "cell_type": "code",
   "execution_count": null,
   "metadata": {},
   "outputs": [],
   "source": [
    "import matplotlib.pyplot as plt\n",
    "fig_2 = plt.figure(figsize=(18,6))\n",
    "\n",
    "sns.regplot(x=pca_vectors[:,48],y=df_y, label='Principal Component 49',x_bins=10)\n",
    "sns.regplot(x=pca_vectors[:,50],y=df_y, label='Principal Component 50',x_bins=10)\n",
    "sns.regplot(x=pca_vectors[:,49],y=df_y, label='Principal Component 51',x_bins=10)\n",
    "\n",
    "plt.title('Least Important Principal Components vs Reference Value')\n",
    "plt.xlabel('Principal Component Value')\n",
    "plt.ylabel('Reference Value')\n",
    "plt.legend()\n",
    "plt.show()"
   ]
  }
 ],
 "metadata": {
  "language_info": {
   "name": "python"
  },
  "orig_nbformat": 4
 },
 "nbformat": 4,
 "nbformat_minor": 2
}
